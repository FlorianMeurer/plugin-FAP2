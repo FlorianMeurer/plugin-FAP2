{
 "cells": [
  {
   "cell_type": "code",
   "execution_count": null,
   "metadata": {},
   "outputs": [],
   "source": [
    "import pandas as pd\n",
    "import sys\n",
    "import os\n",
    "from scipy import constants as conts\n",
    "\n",
    "def ret_energy(wavelength):\n",
    "    return (conts.h * conts.c) / (wavelength*conts.e) / conts.angstrom\n",
    "\n",
    "def ret_wl(energy):\n",
    "    return (conts.h * conts.c) / (energy*conts.e) / conts.angstrom\n",
    "\n",
    "def main():\n",
    "    evaluate(sys.argv)\n",
    "\n",
    "def evaluate(loc, dir, outname=\"\"):\n",
    "    with open(loc, \"r\") as inp:\n",
    "        print(f\"Looking at {loc}\")\n",
    "        df = pd.DataFrame()\n",
    "        blocks = []\n",
    "        buffer = []\n",
    "        for line in inp:\n",
    "            if line.startswith(\"++++\"):\n",
    "                blocks.append(buffer)\n",
    "                buffer = []\n",
    "            else:\n",
    "                buffer.append(line)\n",
    "    for block in blocks:\n",
    "        outdir = {}\n",
    "        for i in range(len(block)):\n",
    "            if \"\\t\" in block[i]:\n",
    "                block[i] = block[i].split(\"\\t\")[1]\n",
    "                block[i] = block[i].strip(\"\\n\")\n",
    "        for elem in block:\n",
    "            for piece in elem.split(\";\"):\n",
    "                if \":\" in piece:\n",
    "                    key, value = piece.split(\":\")\n",
    "                    outdir[key] = value\n",
    "                else:\n",
    "                    continue\n",
    "        df = df.append(outdir, ignore_index =True)\n",
    "    #df[\"Energy\"] = ret_energy(df[\"wavelength\"])\n",
    "    df.to_csv(os.path.join(dir,f\"SYSout_{outname}.csv\"))\n",
    "\n",
    "if __name__ == '__main__':\n",
    "    print(\"Loaded SYStocsv\")\n",
    "    main()\n",
    "    \n"
   ]
  },
  {
   "cell_type": "code",
   "execution_count": null,
   "metadata": {},
   "outputs": [],
   "source": []
  }
 ],
 "metadata": {
  "language_info": {
   "name": "python"
  }
 },
 "nbformat": 4,
 "nbformat_minor": 2
}
