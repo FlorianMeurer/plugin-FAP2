{
 "cells": [
  {
   "cell_type": "code",
   "execution_count": 1,
   "metadata": {},
   "outputs": [],
   "source": [
    "f_primes_refined, f_double_primes_refined = [],[]\n",
    "elements = \"Mo\"\n",
    "\n",
    "with open(\"./MoC6O6_19900_solution_refined.ins\", \"r\") as out_ins:\n",
    "    for line in out_ins:\n",
    "        if line.startswith(f\"REM  <{elements}\"):\n",
    "            l = line.split()\n",
    "            fp, fdp = float(l[2].replace('\"', '')),float(l[3].replace('\">', ''))\n",
    "            f_primes_refined.append(fp)\n",
    "            f_double_primes_refined.append(fdp)\n"
   ]
  },
  {
   "cell_type": "code",
   "execution_count": 2,
   "metadata": {},
   "outputs": [
    {
     "data": {
      "text/plain": [
       "[-5.1417]"
      ]
     },
     "execution_count": 2,
     "metadata": {},
     "output_type": "execute_result"
    }
   ],
   "source": [
    "f_primes_refined"
   ]
  },
  {
   "cell_type": "code",
   "execution_count": 17,
   "metadata": {},
   "outputs": [
    {
     "name": "stdout",
     "output_type": "stream",
     "text": [
      "REM  <Mo01 \"-5.1626 0.9515\">\n",
      "\n",
      "REM  <Mo02 \"-5.1626 0.9515\">\n",
      "\n",
      "REM  <Mo03 \"-5.1626 0.9515\">\n",
      "\n",
      "['TITL MoC6O6_20040 in Pnma\\n', 'REM Pnma (#62, found as Pcmn in -cba setting)\\n', 'CELL 0.623035 11.821247 11.297402 6.394022 90 90 90\\n', 'ZERR 4 0.000122 0.00008 0.000047 0 0 0\\n', 'LATT 1\\n', 'SYMM 0.5-X,-Y,0.5+Z\\n', 'SYMM -X,0.5+Y,-Z\\n', 'SYMM 0.5+X,0.5-Y,0.5-Z\\n', 'SFAC C O Mo\\n', 'DISP C 0.002 0.0012 8.8849\\n', 'DISP Mo -4.589 0.5436 2079.1323\\n', 'DISP O 0.0078 0.0046 23.2272\\n', 'UNIT 24 24 4\\n', '\\n', 'L.S. 10\\n', 'PLAN  20\\n', 'TEMP -163.15\\n', 'CONF\\n', 'LIST 6\\n', 'FMAP 2\\n', 'MORE -1\\n', 'ACTA \\n', 'EXTI 0.008791\\n', 'SHEL 999 0\\n', 'WGHT 0.029264 0.155734\\n', 'FVAR 0.626001\\n', 'REM <olex2.extras>\\n', 'REM <HklSrc \"%.\\\\\\\\MoCO6_19900.hkl\">\\n', 'REM </olex2.extras>\\n', '\\n', 'Mo01  3     0.37368  0.75000  0.43747  10.50000  0.01677  0.01388  0.01561 =\\n', ' 0.00000  0.00007 -0.00000 \\n', 'O002  2     0.53534  0.94978  0.24406  11.00000  0.03289  0.02734  0.03331 =\\n', ' 0.00224  0.00387 -0.00756 \\n', 'O003  2     0.52100  0.75000  0.85897  10.50000  0.03110  0.03861  0.02431 =\\n', ' 0.00000 -0.00519 -0.00000 \\n', 'O004  2     0.22412  0.75000  0.01962  10.50000  0.03167  0.04340  0.02471 =\\n', ' 0.00000 -0.00562 -0.00000 \\n', 'O005  2     0.21597  0.54712  0.63273  11.00000  0.03121  0.02873  0.03920 =\\n', ' 0.00963  0.00139 -0.00572 \\n', 'C006  1     0.47749  0.87907  0.31207  11.00000  0.02348  0.02061  0.02230 =\\n', ' -0.00135 -0.00072  0.00021 \\n', 'C007  1     0.46924  0.75000  0.70875  10.50000  0.02254  0.02211  0.02197 =\\n', ' 0.00000  0.00105 -0.00000 \\n', 'C008  1     0.27726  0.75000  0.16791  10.50000  0.02219  0.02247  0.02188 =\\n', ' 0.00000  0.00198 -0.00000 \\n', 'C009  1     0.27121  0.61949  0.56347  11.00000  0.02298  0.02129  0.02321 =\\n', ' 0.00150 -0.00088  0.00086 \\n', 'HKLF 4\\n', '\\n', 'END\\n']\n"
     ]
    }
   ],
   "source": [
    "temp_ins = []\n",
    "with open(\"MoCO6_19900.ins\", \"r\") as file:\n",
    "    switch = False\n",
    "    for line in file:\n",
    "        if line == \"REM <dispersion\\n\":\n",
    "            switch = True\n",
    "            continue\n",
    "        if switch:\n",
    "            if \"REM  <\" in line:\n",
    "                print(line)\n",
    "                continue\n",
    "            switch = False\n",
    "            continue\n",
    "        temp_ins.append(line)\n",
    "    print(temp_ins)\n",
    "    \n",
    "with open(\"output.txt\", \"w\") as file:\n",
    "    for line in temp_ins:\n",
    "        file.write(line)"
   ]
  },
  {
   "cell_type": "code",
   "execution_count": 2,
   "metadata": {},
   "outputs": [],
   "source": [
    "from scipy import constants as conts\n",
    "\n",
    "def ret_energy(wavelength):\n",
    "    return (conts.h * conts.c) / (wavelength*conts.e) / conts.angstrom\n",
    "\n",
    "def ret_wl(energy):\n",
    "    return (conts.h * conts.c) / (energy*conts.e) / conts.angstrom"
   ]
  },
  {
   "cell_type": "code",
   "execution_count": 53,
   "metadata": {},
   "outputs": [
    {
     "data": {
      "text/plain": [
       "0.5853833731501429"
      ]
     },
     "execution_count": 53,
     "metadata": {},
     "output_type": "execute_result"
    }
   ],
   "source": [
    "ret_wl(21780\n",
    "       )"
   ]
  },
  {
   "cell_type": "code",
   "execution_count": 46,
   "metadata": {},
   "outputs": [],
   "source": [
    "import pandas as pd\n",
    "from scipy import constants as conts\n",
    "\n",
    "def ret_energy(wavelength):\n",
    "    return (conts.h * conts.c) / (wavelength*conts.e) / conts.angstrom\n",
    "\n",
    "def ret_wl(energy):\n",
    "    return (conts.h * conts.c) / (energy*conts.e) / conts.angstrom\n",
    "\n",
    "def evaluate(loc):\n",
    "    with open(loc, \"r\") as inp:\n",
    "        df = pd.DataFrame()\n",
    "        blocks = []\n",
    "        buffer = []\n",
    "        for line in inp:\n",
    "            if line.startswith(\"++++\"):\n",
    "                blocks.append(buffer)\n",
    "                buffer = []\n",
    "            else:\n",
    "                buffer.append(line)\n",
    "    for block in blocks:\n",
    "        outdir = {}\n",
    "        for i in range(len(block)):\n",
    "            if \"\\t\" in block[i]:\n",
    "                block[i] = block[i].split(\"\\t\")[1]\n",
    "            if \"\\n\" in block[i]:\n",
    "                block[i] = block[i].strip(\"\\n\")\n",
    "        for elem in block:\n",
    "            for piece in elem.split(\";\"):\n",
    "                if \":\" in piece:\n",
    "                    key, value = piece.split(\":\")\n",
    "                    outdir[key] = value\n",
    "                else:\n",
    "                    continue\n",
    "        result = pd.DataFrame(outdir, index=[0])\n",
    "        df = pd.concat([df, result], ignore_index=True)\n",
    "    df.to_csv(\"SYSout.csv\")\n",
    "\n",
    "        "
   ]
  },
  {
   "cell_type": "code",
   "execution_count": 48,
   "metadata": {},
   "outputs": [],
   "source": [
    "evaluate(\"./output.txt\")\n"
   ]
  },
  {
   "cell_type": "code",
   "execution_count": 3,
   "metadata": {},
   "outputs": [
    {
     "data": {
      "text/plain": [
       "[]"
      ]
     },
     "execution_count": 3,
     "metadata": {},
     "output_type": "execute_result"
    }
   ],
   "source": []
  },
  {
   "cell_type": "code",
   "execution_count": null,
   "metadata": {},
   "outputs": [],
   "source": []
  }
 ],
 "metadata": {
  "kernelspec": {
   "display_name": "Python 3.9.6 64-bit",
   "language": "python",
   "name": "python3"
  },
  "language_info": {
   "codemirror_mode": {
    "name": "ipython",
    "version": 3
   },
   "file_extension": ".py",
   "mimetype": "text/x-python",
   "name": "python",
   "nbconvert_exporter": "python",
   "pygments_lexer": "ipython3",
   "version": "3.9.5"
  },
  "orig_nbformat": 4,
  "vscode": {
   "interpreter": {
    "hash": "69a1a1d853624da88fe3a3558871328a73b555428be3313eebd574666bb37328"
   }
  }
 },
 "nbformat": 4,
 "nbformat_minor": 2
}
